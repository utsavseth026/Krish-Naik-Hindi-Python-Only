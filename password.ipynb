{
 "cells": [
  {
   "cell_type": "code",
   "execution_count": null,
   "metadata": {},
   "outputs": [],
   "source": []
  },
  {
   "cell_type": "code",
   "execution_count": null,
   "metadata": {},
   "outputs": [],
   "source": [
    "# Difficult will be done immediately, impossible might take some time. \n",
    "\n",
    "'''\n",
    "\n",
    "zzzzzzzzxxxxxxxxcccccccccvvvvvvvvvvbbbbbbbbnnnnnnnmmmmmmmm\n",
    "\n",
    "\n",
    "'''"
   ]
  },
  {
   "cell_type": "code",
   "execution_count": null,
   "metadata": {},
   "outputs": [],
   "source": [
    "'''\n",
    "\n",
    "I react very fast in saying no and take very long time to say yes\n",
    "\n",
    "I have to talk with myself.\n",
    "\n",
    "How to change ---> negative attitude to positive attitude   \n",
    "\n",
    "people who behave negatively and dont know\n",
    "people who behave negatively and know\n",
    "behave negatively and they realise after 1 year\n",
    "behave negatively and they realise after 3 years\n",
    "behave negatively and immidiately realises\n",
    "\n",
    "'''"
   ]
  }
 ],
 "metadata": {
  "language_info": {
   "name": "python"
  }
 },
 "nbformat": 4,
 "nbformat_minor": 2
}
